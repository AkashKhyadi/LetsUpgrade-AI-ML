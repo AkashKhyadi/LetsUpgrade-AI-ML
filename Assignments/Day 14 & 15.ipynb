{
 "cells": [
  {
   "cell_type": "markdown",
   "metadata": {},
   "source": [
    "# 1. Create a 3x3x3 array with random values "
   ]
  },
  {
   "cell_type": "code",
   "execution_count": 1,
   "metadata": {},
   "outputs": [
    {
     "data": {
      "text/plain": [
       "array([[[4.67296746e-307, 1.69121096e-306, 4.22786442e-307],\n",
       "        [3.11517980e-307, 8.06609645e-308, 7.56587584e-307],\n",
       "        [1.37961302e-306, 1.05699242e-307, 8.01097889e-307]],\n",
       "\n",
       "       [[1.78020169e-306, 7.56601165e-307, 1.02359984e-306],\n",
       "        [1.33510679e-306, 2.22522597e-306, 1.33511018e-306],\n",
       "        [6.23057689e-307, 1.33511290e-306, 1.78019082e-306]],\n",
       "\n",
       "       [[8.45559303e-307, 8.06612616e-308, 6.89810244e-307],\n",
       "        [1.22387550e-307, 2.22522596e-306, 8.34423917e-308],\n",
       "        [1.11261162e-306, 1.78021527e-306, 2.10081501e-312]]])"
      ]
     },
     "execution_count": 1,
     "metadata": {},
     "output_type": "execute_result"
    }
   ],
   "source": [
    "import numpy as np\n",
    "x=np.empty((3,3,3,))\n",
    "x"
   ]
  },
  {
   "cell_type": "markdown",
   "metadata": {},
   "source": [
    "# 2.Create a 5x5 matrix with values 1,2,3,4 just below the diagonal"
   ]
  },
  {
   "cell_type": "code",
   "execution_count": 2,
   "metadata": {},
   "outputs": [
    {
     "name": "stdout",
     "output_type": "stream",
     "text": [
      "[[0 0 0 0 0]\n",
      " [1 0 0 0 0]\n",
      " [1 2 0 0 0]\n",
      " [1 2 3 0 0]\n",
      " [1 2 3 4 0]]\n"
     ]
    }
   ],
   "source": [
    "a=np.array([[0,0,0,0,0],[1,0,0,0,0],[1,2,0,0,0],[1,2,3,0,0],[1,2,3,4,0]])\n",
    "print(a)"
   ]
  },
  {
   "cell_type": "markdown",
   "metadata": {},
   "source": [
    "# 3.Create a 8x8 matrix and fill it with a checkerboard pattern"
   ]
  },
  {
   "cell_type": "code",
   "execution_count": 3,
   "metadata": {},
   "outputs": [
    {
     "name": "stdout",
     "output_type": "stream",
     "text": [
      "[[0 1 0 1 0 1 0 1]\n",
      " [1 0 1 0 1 0 1 0]\n",
      " [0 1 0 1 0 1 0 1]\n",
      " [1 0 1 0 1 0 1 0]\n",
      " [0 1 0 1 0 1 0 1]\n",
      " [1 0 1 0 1 0 1 0]\n",
      " [0 1 0 1 0 1 0 1]\n",
      " [1 0 1 0 1 0 1 0]]\n"
     ]
    }
   ],
   "source": [
    "import numpy as np \n",
    "  \n",
    "c = np.zeros((8, 8), dtype = int) \n",
    "  \n",
    "# fill with 1 the alternate rows and columns \n",
    "c[1::2, ::2] = 1\n",
    "c[::2, 1::2] = 1\n",
    "print(c)"
   ]
  },
  {
   "cell_type": "markdown",
   "metadata": {},
   "source": [
    "# 4. Normalize a 5x5 random matrix"
   ]
  },
  {
   "cell_type": "code",
   "execution_count": 4,
   "metadata": {},
   "outputs": [
    {
     "name": "stdout",
     "output_type": "stream",
     "text": [
      "Before Normalization\n",
      "\n",
      "\n",
      "[[0.87117812 0.72346681 0.55871528 0.35630799 0.42790481]\n",
      " [0.98227354 0.82214319 0.32300896 0.97534014 0.73399534]\n",
      " [0.52717187 0.93394391 0.21472183 0.67951314 0.34151093]\n",
      " [0.23710845 0.4477511  0.13636903 0.28330745 0.6255829 ]\n",
      " [0.42616461 0.45180735 0.09549042 0.90145008 0.54127518]]\n",
      "After Normalization\n",
      "\n",
      "\n",
      "[[0.87472087 0.70815104 0.52236545 0.29411653 0.37485422]\n",
      " [1.         0.81942558 0.25656615 0.99218141 0.72002377]\n",
      " [0.48679484 0.94550006 0.13445386 0.65858574 0.2774303 ]\n",
      " [0.15969861 0.39723431 0.04609764 0.2117959  0.59777015]\n",
      " [0.37289184 0.40180842 0.         0.9088577  0.50269874]]\n"
     ]
    }
   ],
   "source": [
    "nor=np.random.random((5,5))\n",
    "print(\"Before Normalization\")\n",
    "print(\"\\n\")\n",
    "print(nor)\n",
    "normax,normin=nor.max(),nor.min()\n",
    "nor=(nor-normin)/(normax-normin)\n",
    "print(\"After Normalization\")\n",
    "print(\"\\n\")\n",
    "print(nor)"
   ]
  },
  {
   "cell_type": "markdown",
   "metadata": {},
   "source": [
    "# 5.  How to find common values between two arrays?"
   ]
  },
  {
   "cell_type": "code",
   "execution_count": 10,
   "metadata": {},
   "outputs": [
    {
     "name": "stdout",
     "output_type": "stream",
     "text": [
      "\n",
      "Array1=\n",
      "\n",
      "[ 2  4  6  8  9 10]\n",
      "\n",
      "Array2=\n",
      "\n",
      "[ 3  6  9 12 15 18]\n",
      "\n",
      "Common Values are\n",
      "\n",
      "[6 9]\n"
     ]
    }
   ],
   "source": [
    "a1=np.array([2,4,6,8,9,10])\n",
    "print(\"\\n\"+\"Array1=\"+\"\\n\")\n",
    "print(a1)\n",
    "a2=np.array([3,6,9,12,15,18])\n",
    "print(\"\\n\"+\"Array2=\"+\"\\n\")\n",
    "print(a2)\n",
    "com=np.intersect1d(a1,a2)\n",
    "print(\"\\n\"+\"Common Values are\"+\"\\n\")\n",
    "print(com)"
   ]
  },
  {
   "cell_type": "markdown",
   "metadata": {},
   "source": [
    "# 6.How to get the dates of yesterday, today and tomorrow?"
   ]
  },
  {
   "cell_type": "code",
   "execution_count": 57,
   "metadata": {},
   "outputs": [
    {
     "name": "stdout",
     "output_type": "stream",
     "text": [
      "Yestraday:  2020-07-29\n",
      "Today:  2020-07-30\n",
      "Tomorrow:  2020-07-31\n"
     ]
    }
   ],
   "source": [
    "yesterday = np.datetime64('today', 'D') - np.timedelta64(1, 'D')\n",
    "print(\"Yestraday: \",yesterday)\n",
    "today     = np.datetime64('today', 'D')\n",
    "print(\"Today: \",today)\n",
    "tomorrow  = np.datetime64('today', 'D') + np.timedelta64(1, 'D')\n",
    "print(\"Tomorrow: \",tomorrow)"
   ]
  },
  {
   "cell_type": "markdown",
   "metadata": {},
   "source": [
    "# 7. Consider two random array A and B, check if they are equal"
   ]
  },
  {
   "cell_type": "code",
   "execution_count": 5,
   "metadata": {},
   "outputs": [
    {
     "name": "stdout",
     "output_type": "stream",
     "text": [
      "[[2.04721870e-306 2.22518658e-306]\n",
      " [1.29061142e-306 2.22523004e-307]]\n",
      "[[9.34611148e-307 1.78019082e-306]\n",
      " [2.78146285e-307 1.89144859e-307]]\n",
      "They are equal\n"
     ]
    }
   ],
   "source": [
    "a1=np.empty((2,2))\n",
    "b1=np.empty((2,2))\n",
    "print(a1)\n",
    "print(b1)\n",
    "# for i in a1:\n",
    "#     for j in b1:\n",
    "#         if i==j:\n",
    "#             print(\"They are equal\")\n",
    "if a1.all()==b1.all():\n",
    "    print(\"They are equal\")"
   ]
  },
  {
   "cell_type": "markdown",
   "metadata": {},
   "source": [
    "# 8.Create random vector of size 10 and replace the maximum value by 0 "
   ]
  },
  {
   "cell_type": "code",
   "execution_count": 12,
   "metadata": {},
   "outputs": [
    {
     "name": "stdout",
     "output_type": "stream",
     "text": [
      "[0.48058062 0.79360626 0.50200294 0.10996936 0.77261735 0.02290523\n",
      " 0.02875524 0.59360542 0.48703637 0.93560573]\n",
      "[0.02290523 0.02875524 0.10996936 0.48058062 0.48703637 0.50200294\n",
      " 0.59360542 0.77261735 0.79360626 0.93560573]\n",
      "[0.02290523 0.02875524 0.10996936 0.48058062 0.48703637 0.50200294\n",
      " 0.59360542 0.77261735 0.79360626 0.        ]\n"
     ]
    }
   ],
   "source": [
    "x1=np.random.random(10)\n",
    "print(x1)\n",
    "x1.sort()\n",
    "print(x1)\n",
    "x1[9]=0\n",
    "print(x1)"
   ]
  },
  {
   "cell_type": "markdown",
   "metadata": {},
   "source": [
    "# 9. How to print all the values of an array?"
   ]
  },
  {
   "cell_type": "code",
   "execution_count": 15,
   "metadata": {},
   "outputs": [
    {
     "name": "stdout",
     "output_type": "stream",
     "text": [
      "[[ 2  1  3]\n",
      " [ 4  2  5]\n",
      " [ 7 89 23]]\n"
     ]
    }
   ],
   "source": [
    "val=np.array([[2,1,3],[4,2,5],[7,89,23]])\n",
    "print(val)"
   ]
  },
  {
   "cell_type": "markdown",
   "metadata": {},
   "source": [
    "# 10.Subtract the mean of each row of a matrix"
   ]
  },
  {
   "cell_type": "code",
   "execution_count": 21,
   "metadata": {},
   "outputs": [
    {
     "name": "stdout",
     "output_type": "stream",
     "text": [
      "\n",
      "Creating 5x5 matrix with random nos.\n",
      "\n",
      "[[0.63218867 0.44597295 0.84397646 0.98286598 0.72508718]\n",
      " [0.74729502 0.36687821 0.38794153 0.95552274 0.61168234]\n",
      " [0.54962641 0.76033372 0.86101655 0.14245425 0.53177851]\n",
      " [0.62191317 0.76775904 0.51560155 0.60318863 0.30998267]\n",
      " [0.162156   0.0311382  0.62095727 0.61100448 0.72403395]]\n",
      "\n",
      "Subtract the mean of each row of a matrix\n",
      "\n",
      "[[-0.09382958 -0.16789102  0.27493457  0.41917696  0.2952292 ]\n",
      " [ 0.02127677 -0.24698576 -0.18110036  0.39183372  0.18182436]\n",
      " [-0.17639184  0.14646975  0.29197466 -0.42123476  0.10192053]\n",
      " [-0.10410508  0.15389507 -0.05344034  0.03949962 -0.11987531]\n",
      " [-0.56386224 -0.58272576  0.05191538  0.04731547  0.29417597]]\n"
     ]
    }
   ],
   "source": [
    "sm=np.random.rand(5,5)\n",
    "print(\"\\n\"+\"Creating 5x5 matrix with random nos.\"+\"\\n\")\n",
    "print(sm)\n",
    "ms=sm-sm.mean(axis=1)\n",
    "print(\"\\n\"+\"Subtract the mean of each row of a matrix\"+\"\\n\")\n",
    "print(ms)\n"
   ]
  },
  {
   "cell_type": "markdown",
   "metadata": {},
   "source": [
    "# 11.Consider a given vector, how to add 1 to each element indexed by a second vector (be careful with repeated indices)? "
   ]
  },
  {
   "cell_type": "code",
   "execution_count": 45,
   "metadata": {
    "scrolled": true
   },
   "outputs": [
    {
     "name": "stdout",
     "output_type": "stream",
     "text": [
      "[4 8 6 1 0 7 7 7 3]\n",
      "[2. 2. 1. 2. 2. 1. 2. 4. 2.]\n"
     ]
    }
   ],
   "source": [
    "vec1=np.ones(9)\n",
    "vec2=np.random.randint(0,len(vec1),9)\n",
    "print(vec2)\n",
    "vec1 += np.bincount(vec2, minlength=len(vec1))\n",
    "print(vec1)"
   ]
  },
  {
   "cell_type": "markdown",
   "metadata": {},
   "source": [
    "# 12.How to get the diagonal of a dot product?"
   ]
  },
  {
   "cell_type": "code",
   "execution_count": 48,
   "metadata": {},
   "outputs": [
    {
     "name": "stdout",
     "output_type": "stream",
     "text": [
      "[[22 32]\n",
      " [33 48]]\n",
      "\n",
      "Diagonal Values are=\n",
      " [22 48]\n"
     ]
    }
   ],
   "source": [
    "x=np.array([[2,4],[3,6]])\n",
    "y=np.array([[1,2],[5,7]])\n",
    "z=np.dot(x,y)\n",
    "print(z)\n",
    "print(\"\\n\"+\"Diagonal Values are=\"+\"\\n\",np.diagonal(z))"
   ]
  },
  {
   "cell_type": "markdown",
   "metadata": {},
   "source": [
    "# 13.How to find the most frequent value in an array?"
   ]
  },
  {
   "cell_type": "code",
   "execution_count": 52,
   "metadata": {},
   "outputs": [
    {
     "name": "stdout",
     "output_type": "stream",
     "text": [
      "3\n"
     ]
    }
   ],
   "source": [
    "xy=np.array([2,3,4,5,4,3,2,3,5,3,2,3,43,23,2,3,2])\n",
    "xy\n",
    "print(np.bincount(xy).argmax()) #bin count provides the number of times a value is repeated.\n",
    "#np.argmax() returns the index of the (first) maximum value in an array."
   ]
  },
  {
   "cell_type": "markdown",
   "metadata": {},
   "source": [
    "# 14.How to get the n largest values of an array"
   ]
  },
  {
   "cell_type": "code",
   "execution_count": 54,
   "metadata": {},
   "outputs": [
    {
     "name": "stdout",
     "output_type": "stream",
     "text": [
      "Original array:\n",
      "[ 0  1  2  3  4  5  6  7  8  9 10 11 12 13 14 15 16 17 18 19]\n",
      "[19]\n"
     ]
    }
   ],
   "source": [
    "x = np.arange(20)\n",
    "print(\"Original array:\")\n",
    "print(x)\n",
    "np.random.shuffle(x)\n",
    "n = 1\n",
    "print (x[np.argsort(x)[-n:]])"
   ]
  },
  {
   "cell_type": "markdown",
   "metadata": {},
   "source": [
    "# 15.How to create a record array from a regular array?"
   ]
  },
  {
   "cell_type": "code",
   "execution_count": 56,
   "metadata": {},
   "outputs": [
    {
     "name": "stdout",
     "output_type": "stream",
     "text": [
      "(1, 'Red', 12.2)\n",
      "(2, 'Green', 15.)\n",
      "(3, 'White', 20.)\n",
      "[(1, 'Red', 12.2) (2, 'Green', 15. ) (3, 'White', 20. )\n",
      " (4, 'Orange', 40. )]\n"
     ]
    }
   ],
   "source": [
    "a1=np.array([1,2,3,4])\n",
    "a2=np.array(['Red','Green','White','Orange'])\n",
    "a3=np.array([12.20,15,20,40])\n",
    "result= np.core.records.fromarrays([a1, a2, a3],names='a,b,c')\n",
    "print(result[0])\n",
    "print(result[1])\n",
    "print(result[2])\n",
    "print(result)"
   ]
  },
  {
   "cell_type": "code",
   "execution_count": null,
   "metadata": {},
   "outputs": [],
   "source": []
  }
 ],
 "metadata": {
  "kernelspec": {
   "display_name": "Python 3",
   "language": "python",
   "name": "python3"
  },
  "language_info": {
   "codemirror_mode": {
    "name": "ipython",
    "version": 3
   },
   "file_extension": ".py",
   "mimetype": "text/x-python",
   "name": "python",
   "nbconvert_exporter": "python",
   "pygments_lexer": "ipython3",
   "version": "3.7.6"
  }
 },
 "nbformat": 4,
 "nbformat_minor": 2
}
