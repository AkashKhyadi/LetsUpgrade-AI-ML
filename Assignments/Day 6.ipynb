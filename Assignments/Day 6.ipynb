{
 "cells": [
  {
   "cell_type": "markdown",
   "metadata": {},
   "source": [
    "#### Question 1:\n",
    "**Assuming that we have some email addresses in the \"username@companyname.com\" format, please write program\n",
    "to print the company name of a given email address. Both user names and company names are composed of letters\n",
    "only.\n",
    "Input Format:\n",
    "The first line of the input contains an email address.\n",
    "Output Format:\n",
    "Print the company name in single line.\n",
    "Example;\n",
    "Input:\n",
    "john@google.com\n",
    "Output:\n",
    "google**"
   ]
  },
  {
   "cell_type": "code",
   "execution_count": 9,
   "metadata": {},
   "outputs": [
    {
     "name": "stdout",
     "output_type": "stream",
     "text": [
      "google\n"
     ]
    }
   ],
   "source": [
    "a=\"abc@google.com\"\n",
    "\n",
    "u=a.split(\"@\")\n",
    "c=u[1].split(\".\")\n",
    "print(c[0])"
   ]
  },
  {
   "cell_type": "markdown",
   "metadata": {},
   "source": [
    "#### Question 2:\n",
    "**Write a program that accepts a comma-separated sequence of words as input and prints the words in a comma\n",
    "separated sequence after sorting them alphabetically.\n",
    "Input Format:\n",
    "The first line of input contains words separated by the comma.\n",
    "Output Format:\n",
    "Print the sorted words separated by the comma.\n",
    "Example:\n",
    "Input:\n",
    "without,hello,bag,world\n",
    "Output:\n",
    "bag,hello,without,world**"
   ]
  },
  {
   "cell_type": "code",
   "execution_count": 1,
   "metadata": {},
   "outputs": [
    {
     "name": "stdout",
     "output_type": "stream",
     "text": [
      "Enter the input sepreated by commas: zig,abc,book,gap,ceil\n",
      "abc,book,ceil,gap,zig\n"
     ]
    }
   ],
   "source": [
    "words=input('Enter the input sepreated by commas: ').split(',')\n",
    "items= [i for i in words] #i[0]=cat, i[1]=ball\n",
    "items.sort()\n",
    "print(',' .join(items))"
   ]
  },
  {
   "cell_type": "markdown",
   "metadata": {},
   "source": [
    "#### Question 3:\n",
    "**Create your own Jupyter Notebook for Sets.**\n"
   ]
  },
  {
   "cell_type": "code",
   "execution_count": 10,
   "metadata": {},
   "outputs": [
    {
     "name": "stdout",
     "output_type": "stream",
     "text": [
      "40\n",
      "10\n",
      "50\n",
      "20\n",
      "30\n",
      "{100, 40, 10, 50, 20, 30}\n",
      "Length of set: 6\n",
      "Is tes a subset of set: True\n",
      "Is set is a superset of tes: True\n",
      "Union of set and tes: {100, 40, 10, 50, 20, 30}\n",
      "Intersection of set and tes: {50, 20, 30}\n",
      "Difference of set and tes: {40, 10, 100}\n",
      "Symmetric ifference of set and tes: {100, 40, 10}\n",
      "The popped value is = 100\n"
     ]
    }
   ],
   "source": [
    "set={10,20,30,40,50}\n",
    "tes={30,20,50}\n",
    "for i in set:\n",
    "    print(i)\n",
    "set.add(100)\n",
    "print(set)\n",
    "\n",
    "print(\"Length of set:\",len(set))\n",
    "\n",
    "print(\"Is tes a subset of set:\",tes.issubset(set))\n",
    "\n",
    "print(\"Is set is a superset of tes:\",set.issuperset(tes))\n",
    "\n",
    "u=set.union(tes)\n",
    "i=set.intersection(tes)\n",
    "d=set.difference(tes)\n",
    "sd=set.symmetric_difference(tes)\n",
    "\n",
    "print(\"Union of set and tes:\",u)\n",
    "\n",
    "print(\"Intersection of set and tes:\",i)\n",
    "\n",
    "print(\"Difference of set and tes:\",d)\n",
    "\n",
    "print(\"Symmetric difference of set and tes:\",sd)\n",
    "\n",
    "popped=set.pop()\n",
    "\n",
    "x= print(\"The popped value is =\",popped)"
   ]
  },
  {
   "cell_type": "markdown",
   "metadata": {},
   "source": [
    "#### Question 4:\n",
    "**Given a list of n-1 numbers ranging from 1 to n, your task is to find the missing number. There are no duplicates.\n",
    "Input Format:\n",
    "The first line contains n-1 numbers with each number separated by a space.\n",
    "Output Format:\n",
    "Print the missing number\n",
    "Example:\n",
    "Input:1 2 4 6 3 7 8\n",
    "Output:5\n",
    "Explanation:\n",
    "In the above list of numbers 5 is missing and hence 5 is the input**"
   ]
  },
  {
   "cell_type": "code",
   "execution_count": 28,
   "metadata": {},
   "outputs": [
    {
     "name": "stdout",
     "output_type": "stream",
     "text": [
      "Enter number of elements : 5\n",
      "\n",
      "Enter the numbers : 2 3 54 23 32\n",
      "\n",
      " [2, 3, 54, 23, 32]\n",
      "\n",
      " Missing element is= [4, 5, 6, 7, 8, 9, 10, 11, 12, 13, 14, 15, 16, 17, 18, 19, 20, 21, 22, 24, 25, 26, 27, 28, 29, 30, 31, 33, 34, 35, 36, 37, 38, 39, 40, 41, 42, 43, 44, 45, 46, 47, 48, 49, 50, 51, 52, 53]\n"
     ]
    }
   ],
   "source": [
    "n = int(input(\"Enter number of elements : \")) \n",
    "  \n",
    "l= list(map(int,input(\"\\nEnter the numbers : \").strip().split()))[:n]\n",
    "\n",
    "print(\"\\n\",l)\n",
    "\n",
    "s=sorted(l)\n",
    "\n",
    "m= [x for x in range(s[0], s[-1]+1)  \n",
    "                               if x not in l]\n",
    "print(\"\\n\",\"Missing element is=\",m)"
   ]
  },
  {
   "cell_type": "markdown",
   "metadata": {},
   "source": [
    "#### Question 5:\n",
    "**With a given list L, write a program to print this list L after removing all duplicate values with original order reserved.\n",
    "Example:\n",
    "If the input list is\n",
    "12 24 35 24 88 120 155 88 120 155\n",
    "Then the output should be\n",
    "12 24 35 88 120 155**"
   ]
  },
  {
   "cell_type": "code",
   "execution_count": 44,
   "metadata": {},
   "outputs": [
    {
     "name": "stdout",
     "output_type": "stream",
     "text": [
      "\n",
      "Enter the numbers : 1 2 3 54 6 3 6 1 43 23 2\n",
      "1 2 3 54 6 43 23 "
     ]
    }
   ],
   "source": [
    "l1= list(map(int,input(\"\\nEnter the numbers : \").strip().split()))#[:n]\n",
    "\n",
    "rl1=list(dict.fromkeys(l1))\n",
    "\n",
    "for x in range(len(rl1)):\n",
    "    print (rl1[x], end=\" \")\n"
   ]
  }
 ],
 "metadata": {
  "kernelspec": {
   "display_name": "Python 3",
   "language": "python",
   "name": "python3"
  },
  "language_info": {
   "codemirror_mode": {
    "name": "ipython",
    "version": 3
   },
   "file_extension": ".py",
   "mimetype": "text/x-python",
   "name": "python",
   "nbconvert_exporter": "python",
   "pygments_lexer": "ipython3",
   "version": "3.7.6"
  }
 },
 "nbformat": 4,
 "nbformat_minor": 4
}
