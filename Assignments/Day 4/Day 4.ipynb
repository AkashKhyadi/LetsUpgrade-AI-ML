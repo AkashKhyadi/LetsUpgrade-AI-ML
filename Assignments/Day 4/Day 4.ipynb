{
 "cells": [
  {
   "cell_type": "markdown",
   "metadata": {},
   "source": [
    "#### 1. Addition, subtraction, multiplication, division, floor division and modulo operations be performed on complex numbers."
   ]
  },
  {
   "cell_type": "code",
   "execution_count": 5,
   "metadata": {},
   "outputs": [
    {
     "name": "stdout",
     "output_type": "stream",
     "text": [
      "(23-2j) (17-6j) (68+28j) (4-4j)\n"
     ]
    }
   ],
   "source": [
    "a=20-4j\n",
    "b=3+2j\n",
    "add=a+b\n",
    "sub=a-b\n",
    "mul=a*b #Since i**2 equals -1 the output is 68+28j\n",
    "div=a/b #conjugate of the denominator is taken and multiplied to both nominator and denominator.\n",
    "\n",
    "# fdiv=a//b  TypeError: can't take floor of complex number.\n",
    "# mod=a%b    TypeError: can't mod complex numbers.\n",
    "\n",
    "print(add,sub,mul,div)"
   ]
  },
  {
   "cell_type": "markdown",
   "metadata": {},
   "source": [
    "# 2. range() functions and its parameters\n",
    "\n",
    "### Range provides a sequence of numbers starting from 0 till a number before the value provided in the bracket.\n",
    "\n",
    "**a=range(5)**\n",
    "---the above code has the values from 0-4 except 5. However the output will be range(0,5).\n",
    "\n",
    "#### To display the numbers from the range.\n",
    "**for b in a:**\n",
    "**print(b)**\n",
    "--- here each output value will be in a seperate line. It works based on for loop.\n",
    "\n",
    "#### Range has three parameters (start(start of the range-optional), stop (end of the range - mandatory), step (increment value - optional based on the usage))\n",
    "\n",
    "**x=range(5,50,5)**\n",
    "**for y in x:**\n",
    "**print(y)**\n"
   ]
  },
  {
   "cell_type": "code",
   "execution_count": 9,
   "metadata": {},
   "outputs": [
    {
     "name": "stdout",
     "output_type": "stream",
     "text": [
      "0\n",
      "1\n",
      "2\n",
      "3\n",
      "4\n"
     ]
    }
   ],
   "source": [
    "a=range(5)\n",
    "a\n",
    "\n",
    "for b in a:\n",
    "    print(b)"
   ]
  },
  {
   "cell_type": "code",
   "execution_count": 10,
   "metadata": {},
   "outputs": [
    {
     "name": "stdout",
     "output_type": "stream",
     "text": [
      "5\n",
      "10\n",
      "15\n",
      "20\n",
      "25\n",
      "30\n",
      "35\n",
      "40\n",
      "45\n"
     ]
    }
   ],
   "source": [
    "x=range(5,50,5)\n",
    "for y in x:\n",
    "    print(y)"
   ]
  },
  {
   "cell_type": "markdown",
   "metadata": {},
   "source": [
    "#### 3.Consider two numbers. Perform their subtraction and if the result of subtraction is greater than 25, print their multiplication result else print their division result."
   ]
  },
  {
   "cell_type": "code",
   "execution_count": 13,
   "metadata": {},
   "outputs": [
    {
     "name": "stdout",
     "output_type": "stream",
     "text": [
      "Mul = 1541\n"
     ]
    }
   ],
   "source": [
    "a=67\n",
    "b=23\n",
    "c=a-b\n",
    "if c>25:\n",
    "    print(\"Mul =\",a*b)\n",
    "else:\n",
    "    print(\"Div =\",a/b)\n"
   ]
  },
  {
   "cell_type": "markdown",
   "metadata": {},
   "source": [
    "#### 4. Consider a list of 10 elements of integer values. If the number in the list is divisible by 2, print the result as \"square of that number minus 2\"."
   ]
  },
  {
   "cell_type": "code",
   "execution_count": 14,
   "metadata": {},
   "outputs": [
    {
     "name": "stdout",
     "output_type": "stream",
     "text": [
      "Result = 2\n",
      "Result = 14\n",
      "Result = 142\n",
      "Result = 7394\n",
      "Result = 62\n"
     ]
    }
   ],
   "source": [
    "a=[2,4,7,5,3,9,12,45,86,8]\n",
    "for b in a:\n",
    "    if b%2==0:\n",
    "        c=b**2-2\n",
    "        print(\"Result =\",c)"
   ]
  },
  {
   "cell_type": "markdown",
   "metadata": {},
   "source": [
    "#### 5. Consider a list of 10 elements. Print all the elements in the list which are greater than 7 when that number is divided 2."
   ]
  },
  {
   "cell_type": "code",
   "execution_count": 15,
   "metadata": {},
   "outputs": [
    {
     "name": "stdout",
     "output_type": "stream",
     "text": [
      "The elements which satisfy the condition are 16\n",
      "The elements which satisfy the condition are 18\n",
      "The elements which satisfy the condition are 20\n"
     ]
    }
   ],
   "source": [
    "x=[2,4,6,8,10,12,14,16,18,20]\n",
    "for y in x:\n",
    "    z=y/2\n",
    "    if z>7:\n",
    "        print(\"The elements which satisfy the condition are\",y)"
   ]
  }
 ],
 "metadata": {
  "kernelspec": {
   "display_name": "Python 3",
   "language": "python",
   "name": "python3"
  },
  "language_info": {
   "codemirror_mode": {
    "name": "ipython",
    "version": 3
   },
   "file_extension": ".py",
   "mimetype": "text/x-python",
   "name": "python",
   "nbconvert_exporter": "python",
   "pygments_lexer": "ipython3",
   "version": "3.7.6"
  }
 },
 "nbformat": 4,
 "nbformat_minor": 4
}
