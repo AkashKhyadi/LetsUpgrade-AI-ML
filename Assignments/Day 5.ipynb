{
 "cells": [
  {
   "cell_type": "markdown",
   "metadata": {},
   "source": [
    "#### 1. Write a Python program to find the first 20 non-even prime natural numbers."
   ]
  },
  {
   "cell_type": "code",
   "execution_count": 59,
   "metadata": {},
   "outputs": [
    {
     "name": "stdout",
     "output_type": "stream",
     "text": [
      "3\n",
      "5\n",
      "7\n",
      "11\n",
      "13\n",
      "17\n",
      "19\n",
      "23\n",
      "29\n",
      "31\n",
      "37\n",
      "41\n",
      "43\n",
      "47\n",
      "53\n",
      "59\n",
      "61\n",
      "67\n",
      "71\n",
      "73\n"
     ]
    }
   ],
   "source": [
    "for i in range(1,79):\n",
    "    if i>1:\n",
    "        if i!=2:\n",
    "            for j in range(2,i):\n",
    "                if i%j==0:\n",
    "                    break\n",
    "            else:\n",
    "                print(i)    "
   ]
  },
  {
   "cell_type": "markdown",
   "metadata": {},
   "source": [
    "#### 2. Write a Python program to implement 15 functions of string."
   ]
  },
  {
   "cell_type": "code",
   "execution_count": 115,
   "metadata": {},
   "outputs": [
    {
     "name": "stdout",
     "output_type": "stream",
     "text": [
      "Learning \tPython\n",
      "Learning \tpython\n",
      "Learning \tPython\n",
      "3\n",
      "True\n",
      "Learning  Python\n",
      "5\n",
      "14\n",
      "False\n",
      "True\n",
      "False\n",
      "True\n",
      "False\n",
      "sLearning \tPython1\n",
      "learning \tpython\n",
      "('Learning \\t', 'P', 'ython')\n",
      "Learnink \tPython\n",
      "Abcdef\n",
      "True\n",
      "16\n",
      "lEARNING \tpYTHON\n"
     ]
    }
   ],
   "source": [
    "s=\"Learning \\tPython\"\n",
    "print(s)\n",
    "\n",
    "print(s.capitalize())  #Return a copy of the string with only its first character capitalized.\n",
    "\n",
    "print(s.center(1, ))\n",
    "\n",
    "print(s.count(\"n\",0,16)) #Return the number of occurrences of substring n\n",
    "\n",
    "print(s.endswith(('P','y','t','h','o','n'),0,15)) \n",
    "\n",
    "print(s.expandtabs(2))\n",
    "\n",
    "print(s.find(\"i\",0,15))\n",
    "\n",
    "print(s.index(\"o\",0,15))\n",
    "\n",
    "print(s.isalnum())\n",
    "\n",
    "s1=\"abcdef\"\n",
    "print(s1.isalpha())\n",
    "\n",
    "print(s.isdigit())\n",
    "\n",
    "print(s1.islower())\n",
    "\n",
    "print(s1.istitle())\n",
    "\n",
    "print(s.join(\"s1\"))\n",
    "\n",
    "print(s.lower())\n",
    "\n",
    "print(s.partition(\"P\"))\n",
    "\n",
    "print(s.replace(\"g\",\"k\",7))\n",
    "\n",
    "print(s1.title())\n",
    "\n",
    "print(s.istitle())\n",
    "\n",
    "print(len(s))\n",
    "\n",
    "print(s.swapcase())"
   ]
  },
  {
   "cell_type": "markdown",
   "metadata": {},
   "source": [
    "#### 3. Write a Python program to check if the given string is a Palindrome or Anagram or None of them. Display the message accordingly to the user."
   ]
  },
  {
   "cell_type": "code",
   "execution_count": 130,
   "metadata": {},
   "outputs": [
    {
     "name": "stdout",
     "output_type": "stream",
     "text": [
      "madam\n",
      "Palindrome\n",
      "Its an anagram\n"
     ]
    }
   ],
   "source": [
    "def pal(a,b):\n",
    "    if a==b:\n",
    "        print(\"Palindrome\")\n",
    "    else:\n",
    "        print(\"Not a palindrome\")\n",
    "\n",
    "def ana(a,b):  \n",
    "    # Get lengths of both strings  \n",
    "    n1 = len(a)  \n",
    "    n2 = len(b)  \n",
    "  \n",
    "    # If lenght of both strings is not same, then  \n",
    "    # they cannot be anagram  \n",
    "    if n1 != n2:  \n",
    "        return 0\n",
    "  \n",
    "    # Sort both strings  \n",
    "    a = sorted(a) \n",
    "    b = sorted(b) \n",
    "  \n",
    "    # Compare sorted strings  \n",
    "    for i in range(0, n1):  \n",
    "        if a[i] != b[i]:  \n",
    "            return 0\n",
    "  \n",
    "    return 1\n",
    "\n",
    "x=input()\n",
    "y=x[::-1]\n",
    "\n",
    "pal(x,y)\n",
    "if ana(x,y):\n",
    "    print(\"Its an anagram\")\n",
    "else:\n",
    "    print(\"Its not an anagram\")"
   ]
  },
  {
   "cell_type": "markdown",
   "metadata": {},
   "source": [
    "#### 4. Write a Python's user defined function that removes all the additional characters from the string and converts it finally to lower case using built-in lower(). eg: If the string is \"Dr. Darshan Ingle @AI-ML Trainer\", then the output be \"drdarshaningleaimltrainer\"."
   ]
  },
  {
   "cell_type": "code",
   "execution_count": 7,
   "metadata": {},
   "outputs": [
    {
     "name": "stdout",
     "output_type": "stream",
     "text": [
      "xbcgmailcom\n"
     ]
    }
   ],
   "source": [
    "def remadd(a):\n",
    "    a=a.lower()\n",
    "    a=a.translate({ord(i):None for i in '@.'})\n",
    "    return a\n",
    "x=remadd(\"Xbc@gMail.com\")\n",
    "print(x)"
   ]
  }
 ],
 "metadata": {
  "kernelspec": {
   "display_name": "Python 3",
   "language": "python",
   "name": "python3"
  },
  "language_info": {
   "codemirror_mode": {
    "name": "ipython",
    "version": 3
   },
   "file_extension": ".py",
   "mimetype": "text/x-python",
   "name": "python",
   "nbconvert_exporter": "python",
   "pygments_lexer": "ipython3",
   "version": "3.7.6"
  }
 },
 "nbformat": 4,
 "nbformat_minor": 4
}
