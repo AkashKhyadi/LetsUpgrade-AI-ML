{
 "cells": [
  {
   "cell_type": "code",
   "execution_count": 4,
   "metadata": {},
   "outputs": [
    {
     "name": "stdout",
     "output_type": "stream",
     "text": [
      "Answer = (-3-2j)\n"
     ]
    }
   ],
   "source": [
    " #Subtract two complex numbers\n",
    "a= 1+3j\n",
    "b= 4+5j\n",
    "c= a-b\n",
    "print(\"Answer =\",c)"
   ]
  },
  {
   "cell_type": "code",
   "execution_count": 6,
   "metadata": {},
   "outputs": [
    {
     "name": "stdout",
     "output_type": "stream",
     "text": [
      "Answer = 5.0\n"
     ]
    }
   ],
   "source": [
    "#Fourth root of a number.\n",
    "a= 625\n",
    "b= a**(1/4)\n",
    "print(\"Answer =\", b)"
   ]
  },
  {
   "cell_type": "code",
   "execution_count": 9,
   "metadata": {},
   "outputs": [
    {
     "name": "stdout",
     "output_type": "stream",
     "text": [
      "The swapped nos are a= 2 and b= 1\n"
     ]
    }
   ],
   "source": [
    "#Swapping two numbers with a temporary variable\n",
    "a=1\n",
    "b=2\n",
    "c=a\n",
    "a=b\n",
    "b=c\n",
    "print(\"The swapped nos are a=\",a,\"and b=\",b)"
   ]
  },
  {
   "cell_type": "code",
   "execution_count": 10,
   "metadata": {},
   "outputs": [
    {
     "name": "stdout",
     "output_type": "stream",
     "text": [
      "The swapped values are a = 10  and b = 5\n"
     ]
    }
   ],
   "source": [
    "#Swapping two numbers without using a temporary variable.\n",
    "a = 5\n",
    "b = 10\n",
    "\n",
    "a=a+b\n",
    "b=a-b\n",
    "a=a-b\n",
    "\n",
    "print(\"The swapped values are a =\",a,\" and b =\",b)"
   ]
  },
  {
   "cell_type": "code",
   "execution_count": 15,
   "metadata": {},
   "outputs": [
    {
     "name": "stdout",
     "output_type": "stream",
     "text": [
      "500 Fahrenheit in Celsius is 260 and in Kelvin is 533.15\n"
     ]
    }
   ],
   "source": [
    "#Conversion of fahrenheit to kelvin and celsius values.\n",
    "# Here f= fahrenheit, c=celsius and k=kelvin\n",
    "f=500\n",
    "c=(f-32)*(5/9)\n",
    "k=(f-32)*(5/9)+273.15\n",
    "print(f,\"Fahrenheit in Celsius is\",int(c),\"and in Kelvin is\",k)"
   ]
  },
  {
   "cell_type": "code",
   "execution_count": 25,
   "metadata": {},
   "outputs": [
    {
     "name": "stdout",
     "output_type": "stream",
     "text": [
      "Available datatypes are as follows \n",
      " <class 'int'> \n",
      " <class 'float'> \n",
      " <class 'complex'> \n",
      " <class 'str'> \n",
      " and  <class 'bool'>\n"
     ]
    }
   ],
   "source": [
    "#All available datatypes in Python\n",
    "\n",
    "a-50\n",
    "b=12.567\n",
    "c= 7+5j\n",
    "d= \"data\"\n",
    "e= True\n",
    "print(\"Available datatypes are as follows \\n\",type(a),\"\\n\",type(b),\"\\n\",type(c),\"\\n\",type(d),\"\\n and \",type(e))"
   ]
  },
  {
   "cell_type": "markdown",
   "metadata": {},
   "source": [
    "#Creating a Markdown cell in jupyter\n",
    "# How to submit Assignments?\n",
    "\n",
    "## Steps\n",
    "\n",
    "**1. Create a Github public repo and name it LetsUpgrade AI/ML**\n",
    "\n",
    "*- Upload the files/solution in the repo in day wise manner.*\n",
    "\n",
    ">Copy the URL of the Folder of that day and paste in the Assignment Submission Form (Google Form)\n",
    "\n",
    "`Make sure you are filling correct details in the Assignment Submission Form.`\n",
    "\n",
    "---All the drop-downs will be available till the week end only. i.e Previous weeks drop-down will disappear on each Sunday 11:59 PM"
   ]
  }
 ],
 "metadata": {
  "kernelspec": {
   "display_name": "Python 3",
   "language": "python",
   "name": "python3"
  },
  "language_info": {
   "codemirror_mode": {
    "name": "ipython",
    "version": 3
   },
   "file_extension": ".py",
   "mimetype": "text/x-python",
   "name": "python",
   "nbconvert_exporter": "python",
   "pygments_lexer": "ipython3",
   "version": "3.7.6"
  }
 },
 "nbformat": 4,
 "nbformat_minor": 4
}
